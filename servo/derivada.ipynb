{
 "cells": [
  {
   "cell_type": "code",
   "execution_count": 1,
   "metadata": {},
   "outputs": [],
   "source": [
    "import serial\n",
    "import numpy as np\n",
    "import matplotlib.pyplot as plt\n",
    "import skfuzzy as fz\n",
    "import time\n",
    "\n",
    "port = serial.Serial('COM11', 115200)\n",
    "time.sleep(2.0)"
   ]
  },
  {
   "cell_type": "code",
   "execution_count": 2,
   "metadata": {},
   "outputs": [
    {
     "data": {
      "text/plain": [
       "2"
      ]
     },
     "execution_count": 2,
     "metadata": {},
     "output_type": "execute_result"
    }
   ],
   "source": [
    "port.write(b'k')\n",
    "port.write(b's')\n",
    "port.write(str(90).encode())"
   ]
  },
  {
   "cell_type": "code",
   "execution_count": 3,
   "metadata": {},
   "outputs": [],
   "source": [
    "datos1 = []\n",
    "tiempo1 = []\n",
    "t = 0.1\n",
    "\n",
    "while True:\n",
    "    port.write(b'k')\n",
    "    distancia = float(port.readline())\n",
    "    port.write(b's')\n",
    "    port.write(str(103).encode())\n",
    "    datos1.append(distancia)\n",
    "    t+=0.1\n",
    "    tiempo1.append(t)\n",
    "    time.sleep(0.1)\n",
    "    if distancia>46:\n",
    "        break"
   ]
  },
  {
   "cell_type": "code",
   "execution_count": 4,
   "metadata": {},
   "outputs": [
    {
     "data": {
      "text/plain": [
       "[10.0,\n",
       " 10.0,\n",
       " 10.0,\n",
       " 9.0,\n",
       " 10.0,\n",
       " 12.0,\n",
       " 14.0,\n",
       " 17.0,\n",
       " 20.0,\n",
       " 25.0,\n",
       " 27.0,\n",
       " 31.0,\n",
       " 36.0,\n",
       " 42.0,\n",
       " 47.0]"
      ]
     },
     "execution_count": 4,
     "metadata": {},
     "output_type": "execute_result"
    }
   ],
   "source": [
    "datos1"
   ]
  },
  {
   "cell_type": "code",
   "execution_count": 5,
   "metadata": {},
   "outputs": [
    {
     "data": {
      "text/plain": [
       "[<matplotlib.lines.Line2D at 0x25c997943d0>]"
      ]
     },
     "execution_count": 5,
     "metadata": {},
     "output_type": "execute_result"
    },
    {
     "data": {
      "image/png": "[encoded data removed]",
      "text/plain": [
       "<Figure size 432x288 with 1 Axes>"
      ]
     },
     "metadata": {
      "needs_background": "light"
     },
     "output_type": "display_data"
    }
   ],
   "source": [
    "plt.plot(tiempo1,datos1)"
   ]
  },
  {
   "cell_type": "code",
   "execution_count": 6,
   "metadata": {},
   "outputs": [
    {
     "data": {
      "text/plain": [
       "2"
      ]
     },
     "execution_count": 6,
     "metadata": {},
     "output_type": "execute_result"
    }
   ],
   "source": [
    "port.write(b'k')\n",
    "port.write(b's')\n",
    "port.write(str(90).encode())"
   ]
  },
  {
   "cell_type": "code",
   "execution_count": 7,
   "metadata": {},
   "outputs": [],
   "source": [
    "\n",
    "tiempo2 = []\n",
    "datos2 = []\n",
    "tiempo1 = []\n",
    "t = 0.1\n",
    "\n",
    "while True:\n",
    "    port.write(b'k')\n",
    "    distancia = float(port.readline())\n",
    "    port.write(b's')\n",
    "    port.write(str(77).encode())\n",
    "    datos2.append(distancia)\n",
    "    t+=0.1\n",
    "    tiempo2.append(t)\n",
    "    time.sleep(0.1)\n",
    "    if distancia<10:\n",
    "        break"
   ]
  },
  {
   "cell_type": "code",
   "execution_count": 8,
   "metadata": {},
   "outputs": [
    {
     "data": {
      "text/plain": [
       "[49.0,\n",
       " 47.0,\n",
       " 48.0,\n",
       " 44.0,\n",
       " 47.0,\n",
       " 47.0,\n",
       " 44.0,\n",
       " 44.0,\n",
       " 40.0,\n",
       " 37.0,\n",
       " 35.0,\n",
       " 31.0,\n",
       " 27.0,\n",
       " 22.0,\n",
       " 15.0,\n",
       " 10.0,\n",
       " 10.0,\n",
       " 9.0]"
      ]
     },
     "execution_count": 8,
     "metadata": {},
     "output_type": "execute_result"
    }
   ],
   "source": [
    "datos2"
   ]
  },
  {
   "cell_type": "code",
   "execution_count": 9,
   "metadata": {},
   "outputs": [
    {
     "data": {
      "text/plain": [
       "[<matplotlib.lines.Line2D at 0x25c9b8a0070>]"
      ]
     },
     "execution_count": 9,
     "metadata": {},
     "output_type": "execute_result"
    },
    {
     "data": {
      "image/png": "[encoded data removed]",
      "text/plain": [
       "<Figure size 432x288 with 1 Axes>"
      ]
     },
     "metadata": {
      "needs_background": "light"
     },
     "output_type": "display_data"
    }
   ],
   "source": [
    "plt.plot(tiempo2,datos2)"
   ]
  },
  {
   "cell_type": "code",
   "execution_count": 39,
   "metadata": {},
   "outputs": [
    {
     "data": {
      "text/plain": [
       "48.0"
      ]
     },
     "execution_count": 39,
     "metadata": {},
     "output_type": "execute_result"
    }
   ],
   "source": [
    "port.write(b'k')\n",
    "distancia = float(port.readline())\n",
    "port.write(b's')\n",
    "port.write(str(105).encode())\n",
    "distancia"
   ]
  }
 ],
 "metadata": {
  "interpreter": {
   "hash": "63fd5069d213b44bf678585dea6b12cceca9941eaf7f819626cde1f2670de90d"
  },
  "kernelspec": {
   "display_name": "Python 3.9.7 64-bit",
   "language": "python",
   "name": "python3"
  },
  "language_info": {
   "codemirror_mode": {
    "name": "ipython",
    "version": 3
   },
   "file_extension": ".py",
   "mimetype": "text/x-python",
   "name": "python",
   "nbconvert_exporter": "python",
   "pygments_lexer": "ipython3",
   "version": "3.9.7"
  },
  "orig_nbformat": 4
 },
 "nbformat": 4,
 "nbformat_minor": 2
}
